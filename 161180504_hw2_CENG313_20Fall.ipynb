{
 "cells": [
  {
   "cell_type": "code",
   "execution_count": 1,
   "metadata": {},
   "outputs": [],
   "source": [
    "#Load Iris dataset\n",
    "from sklearn.datasets import load_iris\n",
    "from sklearn.model_selection import train_test_split\n",
    "from sklearn import preprocessing\n",
    "import math \n",
    "import numpy as np\n",
    "import array\n",
    "from sklearn.metrics import accuracy_score\n",
    "import pandas as pd\n",
    "import numpy as np\n"
   ]
  },
  {
   "cell_type": "code",
   "execution_count": 2,
   "metadata": {},
   "outputs": [],
   "source": [
    "#load data into iris variable\n",
    "iris = load_iris()\n",
    "\n",
    "#this is splitting step\n",
    "X_train, X_test, y_train, y_test = train_test_split(iris.data, iris.target, test_size=0.3)\n"
   ]
  },
  {
   "cell_type": "code",
   "execution_count": 3,
   "metadata": {},
   "outputs": [],
   "source": [
    "#this function includes general transaction. \n",
    "def predict_(k_neighbor, x_train, x_test, y_train):\n",
    "    \n",
    "    result = np.array([])\n",
    "    for data in x_test:\n",
    "\n",
    "        \n",
    "        arr = np.array(euclidean(x_train, y_train, data))\n",
    "        value = accordingto_knn_select_one_class(k_neighbor, arr[0:k_neighbor]) \n",
    "        \n",
    "        result = np.append(result, value)\n",
    "\n",
    "    return result #returns an list that is result of classification"
   ]
  },
  {
   "cell_type": "code",
   "execution_count": 4,
   "metadata": {},
   "outputs": [],
   "source": [
    "#this function is euclidean algorithms. it returns distance of each samples\n",
    "def euclidean(x_train, y_train, x_test):\n",
    "    \n",
    "    \n",
    "    similarity = []\n",
    "    \n",
    "    for i, i_y in zip(x_train, y_train):\n",
    "        index = 0\n",
    "        sum_ = 0 \n",
    "        for j in i : \n",
    "            \n",
    "            subtract = x_test[index] - j \n",
    "            pow_ = math.pow(subtract, 2)\n",
    "            \n",
    "            sum_ += pow_\n",
    "            \n",
    "            index+=1\n",
    "            \n",
    "        similarity.append((math.sqrt(sum_),i_y))\n",
    "    \n",
    "    similarity.sort(key=lambda x:x[0])\n",
    "    return similarity\n",
    "            \n",
    "    \n"
   ]
  },
  {
   "cell_type": "code",
   "execution_count": 5,
   "metadata": {},
   "outputs": [],
   "source": [
    "#this function do things that calculate neighbor according to how much constraint k-neighbor,\n",
    "#and it decide class of species and returns name of class\n",
    "def accordingto_knn_select_one_class(k_neighbor, predict_target_value):\n",
    "    \n",
    "    classes = [(0.0,0), (1.0,0), (2.0,0)]\n",
    "    classes = np.array(classes)\n",
    "    1,2,1\n",
    "    for i in range(len(predict_target_value)):\n",
    "        (a,b) = predict_target_value[i]\n",
    "#         print(a,b)\n",
    "        if b == 0.0:\n",
    "            classes[0][1] +=1\n",
    "        elif b == 1.0:\n",
    "            classes[1][1] +=1\n",
    "        elif b == 2.0:\n",
    "            classes[2][1] +=1\n",
    "    \n",
    "    out = sorted(classes, key=lambda x:x[1], reverse=True)[0]\n",
    "#     print(out[0])\n",
    "    return out[0]\n",
    "\n"
   ]
  },
  {
   "cell_type": "code",
   "execution_count": 6,
   "metadata": {},
   "outputs": [
    {
     "name": "stdout",
     "output_type": "stream",
     "text": [
      "According to 1-neighbor, accuracy score :  0.9777777777777777\n",
      "According to 3-neighbor, accuracy score :  0.9555555555555556\n",
      "According to 5-neighbor, accuracy score :  0.9333333333333333\n"
     ]
    }
   ],
   "source": [
    "y_pred_1 = predict_(2, X_train, X_test, y_train) #this variable represents that all predicted samples\n",
    "y_pred_2 = predict_(3, X_train, X_test, y_train) \n",
    "y_pred_3 = predict_(5, X_train, X_test, y_train)\n",
    "\n",
    "y_true = np.array(y_test) #this variable represents y_test\n",
    "\n",
    "#below operations calculate accuracy score.\n",
    "print('According to 1-neighbor, accuracy score : ' , accuracy_score(y_true, y_pred_1))\n",
    "print('According to 3-neighbor, accuracy score : ' , accuracy_score(y_true, y_pred_2))\n",
    "print('According to 5-neighbor, accuracy score : ' , accuracy_score(y_true, y_pred_3))\n",
    " "
   ]
  },
  {
   "cell_type": "code",
   "execution_count": 7,
   "metadata": {},
   "outputs": [],
   "source": [
    "from sklearn.neighbors import KNeighborsClassifier\n",
    "\n",
    "def calculate_accuracy(k_neighbor):    \n",
    "    classifier = KNeighborsClassifier(n_neighbors=k_neighbor)\n",
    "    classifier.fit(X_train, y_train)\n",
    "    y_pred2 = classifier.predict(X_test)\n",
    "    return accuracy_score(y_test, y_pred2)"
   ]
  },
  {
   "cell_type": "code",
   "execution_count": 8,
   "metadata": {},
   "outputs": [
    {
     "name": "stdout",
     "output_type": "stream",
     "text": [
      "According to 1-neighbor, accuracy score :  0.9777777777777777\n",
      "According to 3-neighbor, accuracy score :  0.9555555555555556\n",
      "According to 5-neighbor, accuracy score :  0.9333333333333333\n"
     ]
    }
   ],
   "source": [
    "\n",
    "#below operations calculate accuracy score.\n",
    "print('According to 1-neighbor, accuracy score : ' , calculate_accuracy(2))\n",
    "print('According to 3-neighbor, accuracy score : ' , calculate_accuracy(3))\n",
    "print('According to 5-neighbor, accuracy score : ' , calculate_accuracy(5))\n",
    " "
   ]
  },
  {
   "cell_type": "code",
   "execution_count": null,
   "metadata": {},
   "outputs": [],
   "source": [
    "\n",
    "    \n",
    "\n"
   ]
  },
  {
   "cell_type": "code",
   "execution_count": null,
   "metadata": {},
   "outputs": [],
   "source": []
  },
  {
   "cell_type": "code",
   "execution_count": null,
   "metadata": {},
   "outputs": [],
   "source": []
  },
  {
   "cell_type": "code",
   "execution_count": null,
   "metadata": {},
   "outputs": [],
   "source": []
  },
  {
   "cell_type": "code",
   "execution_count": null,
   "metadata": {},
   "outputs": [],
   "source": []
  },
  {
   "cell_type": "code",
   "execution_count": null,
   "metadata": {},
   "outputs": [],
   "source": []
  },
  {
   "cell_type": "code",
   "execution_count": null,
   "metadata": {},
   "outputs": [],
   "source": []
  },
  {
   "cell_type": "code",
   "execution_count": null,
   "metadata": {},
   "outputs": [],
   "source": []
  },
  {
   "cell_type": "code",
   "execution_count": null,
   "metadata": {},
   "outputs": [],
   "source": []
  },
  {
   "cell_type": "code",
   "execution_count": null,
   "metadata": {},
   "outputs": [],
   "source": []
  },
  {
   "cell_type": "code",
   "execution_count": null,
   "metadata": {},
   "outputs": [],
   "source": []
  },
  {
   "cell_type": "code",
   "execution_count": null,
   "metadata": {},
   "outputs": [],
   "source": []
  },
  {
   "cell_type": "code",
   "execution_count": null,
   "metadata": {},
   "outputs": [],
   "source": []
  },
  {
   "cell_type": "code",
   "execution_count": null,
   "metadata": {},
   "outputs": [],
   "source": []
  }
 ],
 "metadata": {
  "kernelspec": {
   "display_name": "Python 3",
   "language": "python",
   "name": "python3"
  },
  "language_info": {
   "codemirror_mode": {
    "name": "ipython",
    "version": 3
   },
   "file_extension": ".py",
   "mimetype": "text/x-python",
   "name": "python",
   "nbconvert_exporter": "python",
   "pygments_lexer": "ipython3",
   "version": "3.8.5"
  }
 },
 "nbformat": 4,
 "nbformat_minor": 4
}
